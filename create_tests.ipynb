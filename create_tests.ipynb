{
 "cells": [
  {
   "cell_type": "markdown",
   "metadata": {},
   "source": [
    "# Create Tests\n",
    "\n",
    "The next step for creating a DataCamp project in R is creating a few tests using the [`testthat` package](https://github.com/r-lib/testthat), which is how instructors deliver feedback on the code students write in a project. The [testing chapter](http://r-pkgs.had.co.nz/tests.html) in Hadley Wickham's _R packages_ book gets into the details of testing with `testthat`, along with workflow advice and concrete examples.\n",
    "\n",
    "After installing the necessary libraries (described below), please create tests for the project tasks below, which were taken from a real live DataCamp project!\n",
    "\n",
    "When complete, please email the link to your forked repo to projects@datacamp.com with the email subject line _DataCamp project tests_. If you have any questions, please reach out to projects@datacamp.com."
   ]
  },
  {
   "cell_type": "code",
   "execution_count": 1,
   "metadata": {},
   "outputs": [],
   "source": [
    "# To be able to run tests locally in the notebook, install the following:\n",
    "# install.packages(\"devtools\")\n",
    "# install.packages(\"testthat\")\n",
    "# devtools::install_github('datacamp/IRkernel.testthat')"
   ]
  },
  {
   "cell_type": "markdown",
   "metadata": {},
   "source": [
    "## An example of a `testthat` test\n",
    "\n",
    "Instructions to the student in the project:\n",
    "\n",
    "- Load the `readr` and `dplyr` packages.\n",
    "- Load the dataset, \"by_tag_year.csv\", into a variable named `by_tag_year` using the `read_csv()` function (**not** `read.csv()`).\n",
    "- Print `by_tag_year`.\n",
    "\n",
    "A potential **incorrect** submission is as follows. Please process the cell below. *Note: `by_tag_year.csv` exists in a directory named `datasets` in the same directory as this `create_tests.ipynb` notebook.*"
   ]
  },
  {
   "cell_type": "code",
   "execution_count": 2,
   "metadata": {},
   "outputs": [
    {
     "data": {
      "text/html": [
       "<table>\n",
       "<thead><tr><th scope=col>year</th><th scope=col>tag</th><th scope=col>number</th><th scope=col>year_total</th></tr></thead>\n",
       "<tbody>\n",
       "\t<tr><td>2008         </td><td>.htaccess    </td><td>  54         </td><td>58390        </td></tr>\n",
       "\t<tr><td>2008         </td><td>.net         </td><td>5910         </td><td>58390        </td></tr>\n",
       "\t<tr><td>2008         </td><td>.net-2.0     </td><td> 289         </td><td>58390        </td></tr>\n",
       "\t<tr><td>2008         </td><td>.net-3.5     </td><td> 319         </td><td>58390        </td></tr>\n",
       "\t<tr><td>2008         </td><td>.net-4.0     </td><td>   6         </td><td>58390        </td></tr>\n",
       "\t<tr><td>2008         </td><td>.net-assembly</td><td>   3         </td><td>58390        </td></tr>\n",
       "</tbody>\n",
       "</table>\n"
      ],
      "text/latex": [
       "\\begin{tabular}{r|llll}\n",
       " year & tag & number & year\\_total\\\\\n",
       "\\hline\n",
       "\t 2008          & .htaccess     &   54          & 58390        \\\\\n",
       "\t 2008          & .net          & 5910          & 58390        \\\\\n",
       "\t 2008          & .net-2.0      &  289          & 58390        \\\\\n",
       "\t 2008          & .net-3.5      &  319          & 58390        \\\\\n",
       "\t 2008          & .net-4.0      &    6          & 58390        \\\\\n",
       "\t 2008          & .net-assembly &    3          & 58390        \\\\\n",
       "\\end{tabular}\n"
      ],
      "text/markdown": [
       "\n",
       "| year | tag | number | year_total |\n",
       "|---|---|---|---|\n",
       "| 2008          | .htaccess     |   54          | 58390         |\n",
       "| 2008          | .net          | 5910          | 58390         |\n",
       "| 2008          | .net-2.0      |  289          | 58390         |\n",
       "| 2008          | .net-3.5      |  319          | 58390         |\n",
       "| 2008          | .net-4.0      |    6          | 58390         |\n",
       "| 2008          | .net-assembly |    3          | 58390         |\n",
       "\n"
      ],
      "text/plain": [
       "  year tag           number year_total\n",
       "1 2008 .htaccess       54   58390     \n",
       "2 2008 .net          5910   58390     \n",
       "3 2008 .net-2.0       289   58390     \n",
       "4 2008 .net-3.5       319   58390     \n",
       "5 2008 .net-4.0         6   58390     \n",
       "6 2008 .net-assembly    3   58390     "
      ]
     },
     "metadata": {},
     "output_type": "display_data"
    }
   ],
   "source": [
    "# Load packages\n",
    "library(readr)\n",
    "\n",
    "# Load dataset\n",
    "by_tag_year <- read.csv(\"datasets/by_tag_year.csv\")\n",
    "\n",
    "# Inspect the dataset\n",
    "head(by_tag_year)"
   ]
  },
  {
   "cell_type": "markdown",
   "metadata": {},
   "source": [
    "Inspect the `testthat` test below, then run the test locally. (Processing the cell above followed by the cell below will run the test locally.)"
   ]
  },
  {
   "cell_type": "code",
   "execution_count": 3,
   "metadata": {},
   "outputs": [
    {
     "data": {
      "application/json": "{\"success\":false,\"summary\":{\"tests\":2,\"failures\":2,\"errors\":0},\"tests\":[{\"name\":\"packages are loaded\",\"message\":\"success\\n\\\"dplyr\\\" %in% .packages() isn't true.\\nDid you load the dplyr package?\\n\",\"success\":false,\"outcome\":\"fail\"},{\"name\":\"by_tag_year is correct\",\"message\":\"`by_tag_year` inherits from `data.frame` not `tbl_df`.\\nDid you read in by_tag_year with read_csv (not read.csv)?\\n\",\"success\":false,\"outcome\":\"fail\"}]}"
     },
     "metadata": {},
     "output_type": "display_data"
    },
    {
     "data": {
      "application/json": "{\"success\":false,\"summary\":{\"tests\":2,\"failures\":2,\"errors\":0},\"tests\":[{\"name\":\"packages are loaded\",\"message\":\"success\\n\\\"dplyr\\\" %in% .packages() isn't true.\\nDid you load the dplyr package?\\n\",\"success\":false,\"outcome\":\"fail\"},{\"name\":\"by_tag_year is correct\",\"message\":\"`by_tag_year` inherits from `data.frame` not `tbl_df`.\\nDid you read in by_tag_year with read_csv (not read.csv)?\\n\",\"success\":false,\"outcome\":\"fail\"}]}"
     },
     "metadata": {},
     "output_type": "display_data"
    },
    {
     "data": {
      "text/plain": [
       "0/2 tests passed\n",
       "> fail :: packages are loaded\n",
       "success\n",
       "\"dplyr\" %in% .packages() isn't true.\n",
       "Did you load the dplyr package?\n",
       " \n",
       "---\n",
       "> fail :: by_tag_year is correct\n",
       "`by_tag_year` inherits from `data.frame` not `tbl_df`.\n",
       "Did you read in by_tag_year with read_csv (not read.csv)?\n",
       " \n",
       "---"
      ]
     },
     "metadata": {},
     "output_type": "display_data"
    }
   ],
   "source": [
    "# These packages need to be loaded in the first `@tests` cell. \n",
    "library(testthat) \n",
    "library(IRkernel.testthat)\n",
    "\n",
    "# The purpose of tests are to try to catch common errors and to \n",
    "# give the student a hint on how to resolve these errors.\n",
    "# The solution should pass the tests.\n",
    "run_tests({\n",
    "    test_that(\"packages are loaded\", {\n",
    "    expect_true(\"readr\" %in% .packages(), info = \"Did you load the readr package?\")\n",
    "    expect_true(\"dplyr\" %in% .packages(), info = \"Did you load the dplyr package?\")\n",
    "    })\n",
    "    \n",
    "    test_that(\"by_tag_year is correct\", {\n",
    "    expect_is(by_tag_year, \"tbl_df\", \n",
    "        info = \"Did you read in by_tag_year with read_csv (not read.csv)?\")\n",
    "    expect_equal(nrow(by_tag_year), 40518, \n",
    "        info = \"Did you read in by_tag_year with read_csv?\")\n",
    "    })\n",
    "})"
   ]
  },
  {
   "cell_type": "markdown",
   "metadata": {},
   "source": [
    "A potential **correct** submission is as follows. Please process the cell below to overwrite the previous incorrect solution."
   ]
  },
  {
   "cell_type": "code",
   "execution_count": 4,
   "metadata": {},
   "outputs": [
    {
     "name": "stderr",
     "output_type": "stream",
     "text": [
      "\n",
      "Attaching package: ‘dplyr’\n",
      "\n",
      "The following object is masked from ‘package:testthat’:\n",
      "\n",
      "    matches\n",
      "\n",
      "The following objects are masked from ‘package:stats’:\n",
      "\n",
      "    filter, lag\n",
      "\n",
      "The following objects are masked from ‘package:base’:\n",
      "\n",
      "    intersect, setdiff, setequal, union\n",
      "\n",
      "Parsed with column specification:\n",
      "cols(\n",
      "  year = col_double(),\n",
      "  tag = col_character(),\n",
      "  number = col_double(),\n",
      "  year_total = col_double()\n",
      ")\n"
     ]
    },
    {
     "name": "stdout",
     "output_type": "stream",
     "text": [
      "# A tibble: 40,518 x 4\n",
      "    year tag           number year_total\n",
      "   <dbl> <chr>          <dbl>      <dbl>\n",
      " 1  2008 .htaccess         54      58390\n",
      " 2  2008 .net            5910      58390\n",
      " 3  2008 .net-2.0         289      58390\n",
      " 4  2008 .net-3.5         319      58390\n",
      " 5  2008 .net-4.0           6      58390\n",
      " 6  2008 .net-assembly      3      58390\n",
      " 7  2008 .net-core          1      58390\n",
      " 8  2008 2d                42      58390\n",
      " 9  2008 32-bit            19      58390\n",
      "10  2008 32bit-64bit        4      58390\n",
      "# ... with 40,508 more rows\n"
     ]
    }
   ],
   "source": [
    "# Load package\n",
    "library(readr)\n",
    "library(dplyr)\n",
    "\n",
    "# Load dataset\n",
    "by_tag_year <- read_csv(\"datasets/by_tag_year.csv\")\n",
    "\n",
    "# Inspect the dataset\n",
    "print(by_tag_year)"
   ]
  },
  {
   "cell_type": "code",
   "execution_count": 5,
   "metadata": {},
   "outputs": [
    {
     "data": {
      "application/json": "{\"success\":true,\"summary\":{\"tests\":2,\"failures\":0,\"errors\":0},\"tests\":[{\"name\":\"packages are loaded\",\"message\":\"success\\nsuccess\",\"success\":true,\"outcome\":\"success\"},{\"name\":\"by_tag_year is correct\",\"message\":\"success\\nsuccess\",\"success\":true,\"outcome\":\"success\"}]}"
     },
     "metadata": {},
     "output_type": "display_data"
    },
    {
     "data": {
      "application/json": "{\"success\":true,\"summary\":{\"tests\":2,\"failures\":0,\"errors\":0},\"tests\":[{\"name\":\"packages are loaded\",\"message\":\"success\\nsuccess\",\"success\":true,\"outcome\":\"success\"},{\"name\":\"by_tag_year is correct\",\"message\":\"success\\nsuccess\",\"success\":true,\"outcome\":\"success\"}]}"
     },
     "metadata": {},
     "output_type": "display_data"
    },
    {
     "data": {
      "text/plain": [
       "2/2 tests passed"
      ]
     },
     "metadata": {},
     "output_type": "display_data"
    }
   ],
   "source": [
    "run_tests({\n",
    "    test_that(\"packages are loaded\", {\n",
    "    expect_true(\"readr\" %in% .packages(), info = \"Did you load the readr package?\")\n",
    "    expect_true(\"dplyr\" %in% .packages(), info = \"Did you load the dplyr package?\")\n",
    "    })\n",
    "    \n",
    "    test_that(\"by_tag_year is correct\", {\n",
    "    expect_is(by_tag_year, \"tbl_df\", \n",
    "        info = \"Did you read in by_tag_year with read_csv (not read.csv)?\")\n",
    "    expect_equal(nrow(by_tag_year), 40518, \n",
    "        info = \"Did you read in by_tag_year with read_csv?\")\n",
    "    })\n",
    "})"
   ]
  },
  {
   "cell_type": "markdown",
   "metadata": {},
   "source": [
    "## Create a test\n",
    "It's your turn to create a test now!\n",
    "\n",
    "Instructions to the student in the project:\n",
    "* Use `mutate()` to add a column called `fraction` to `by_tag_year`, representing `number` divided by `year_total`. Name the new table `by_tag_year_fraction`.\n",
    "* Print `by_tag_year_fraction`.\n",
    "\n",
    "A potential **incorrect** submission is as follows. Please process the cell below."
   ]
  },
  {
   "cell_type": "code",
   "execution_count": 6,
   "metadata": {},
   "outputs": [
    {
     "name": "stdout",
     "output_type": "stream",
     "text": [
      "# A tibble: 40,518 x 5\n",
      "    year tag           number year_total     frac\n",
      "   <dbl> <chr>          <dbl>      <dbl>    <dbl>\n",
      " 1  2008 .htaccess         54      58390 1.58e- 8\n",
      " 2  2008 .net            5910      58390 1.73e- 6\n",
      " 3  2008 .net-2.0         289      58390 8.48e- 8\n",
      " 4  2008 .net-3.5         319      58390 9.36e- 8\n",
      " 5  2008 .net-4.0           6      58390 1.76e- 9\n",
      " 6  2008 .net-assembly      3      58390 8.80e-10\n",
      " 7  2008 .net-core          1      58390 2.93e-10\n",
      " 8  2008 2d                42      58390 1.23e- 8\n",
      " 9  2008 32-bit            19      58390 5.57e- 9\n",
      "10  2008 32bit-64bit        4      58390 1.17e- 9\n",
      "# ... with 40,508 more rows\n"
     ]
    }
   ],
   "source": [
    "# Add fraction column\n",
    "by_tag_year_fraction <- by_tag_year %>%\n",
    "  mutate(frac = number / year_total^2)\n",
    "\n",
    "# Print the new table\n",
    "print(by_tag_year_fraction)"
   ]
  },
  {
   "cell_type": "markdown",
   "metadata": {},
   "source": [
    "Please fill in the following `testthat` test template to test if:\n",
    "- `by_tag_year_fraction` is of class `tbl_df`\n",
    "- a new column named \"fraction\" was created (hint: use `colnames()` with the `%in%` operator)\n",
    "- the contents of the \"fraction\" column are correct\n",
    "\n",
    "Include a helpful feedback message for failing submissions. The test should fail since the above solution is incorrect."
   ]
  },
  {
   "cell_type": "code",
   "execution_count": 7,
   "metadata": {},
   "outputs": [
    {
     "data": {
      "application/json": "{\"success\":false,\"summary\":{\"tests\":1,\"failures\":1,\"errors\":0},\"tests\":[{\"name\":\"by_tag_year_fraction is correct\",\"message\":\"success\\n\\\"fraction\\\" %in% colnames(by_tag_year_fraction) isn't true.\\nby_tag_year_fraction does not have a column named 'fraction' did you use mutate to name your column 'fraction'?\\n\",\"success\":false,\"outcome\":\"fail\"}]}"
     },
     "metadata": {},
     "output_type": "display_data"
    },
    {
     "data": {
      "application/json": "{\"success\":false,\"summary\":{\"tests\":1,\"failures\":1,\"errors\":0},\"tests\":[{\"name\":\"by_tag_year_fraction is correct\",\"message\":\"success\\n\\\"fraction\\\" %in% colnames(by_tag_year_fraction) isn't true.\\nby_tag_year_fraction does not have a column named 'fraction' did you use mutate to name your column 'fraction'?\\n\",\"success\":false,\"outcome\":\"fail\"}]}"
     },
     "metadata": {},
     "output_type": "display_data"
    },
    {
     "data": {
      "text/plain": [
       "0/1 tests passed\n",
       "> fail :: by_tag_year_fraction is correct\n",
       "success\n",
       "\"fraction\" %in% colnames(by_tag_year_fraction) isn't true.\n",
       "by_tag_year_fraction does not have a column named 'fraction' did you use mutate to name your column 'fraction'?\n",
       " \n",
       "---"
      ]
     },
     "metadata": {},
     "output_type": "display_data"
    }
   ],
   "source": [
    "run_tests({\n",
    "    # .... YOUR TEST(S) HERE ....\n",
    "    test_that(\"by_tag_year_fraction is correct\", {\n",
    "        expect_is(by_tag_year_fraction, \"tbl_df\", \n",
    "              info = \"Did you use `mutate()` with the correct arguments?\")\n",
    "        expect_true(\"fraction\"%in%colnames(by_tag_year_fraction),\n",
    "                info = \"by_tag_year_fraction does not have a column named 'fraction' did you use mutate to name your column 'fraction'?\")\n",
    "        expect_identical(by_tag_year_fraction$fraction[1], 54/58390, \n",
    "                         info = \"The column fraction does not have the correct value, did you check your equation?\")\n",
    "    })\n",
    "})"
   ]
  },
  {
   "cell_type": "markdown",
   "metadata": {},
   "source": [
    "A potential **correct** solution is as follows. Please process the cell below."
   ]
  },
  {
   "cell_type": "code",
   "execution_count": 8,
   "metadata": {},
   "outputs": [
    {
     "name": "stdout",
     "output_type": "stream",
     "text": [
      "# A tibble: 40,518 x 5\n",
      "    year tag           number year_total  fraction\n",
      "   <dbl> <chr>          <dbl>      <dbl>     <dbl>\n",
      " 1  2008 .htaccess         54      58390 0.000925 \n",
      " 2  2008 .net            5910      58390 0.101    \n",
      " 3  2008 .net-2.0         289      58390 0.00495  \n",
      " 4  2008 .net-3.5         319      58390 0.00546  \n",
      " 5  2008 .net-4.0           6      58390 0.000103 \n",
      " 6  2008 .net-assembly      3      58390 0.0000514\n",
      " 7  2008 .net-core          1      58390 0.0000171\n",
      " 8  2008 2d                42      58390 0.000719 \n",
      " 9  2008 32-bit            19      58390 0.000325 \n",
      "10  2008 32bit-64bit        4      58390 0.0000685\n",
      "# ... with 40,508 more rows\n"
     ]
    }
   ],
   "source": [
    "# Add fraction column\n",
    "by_tag_year_fraction <- by_tag_year %>%\n",
    "  mutate(fraction = number / year_total)\n",
    "\n",
    "# Print the new table\n",
    "print(by_tag_year_fraction)"
   ]
  },
  {
   "cell_type": "markdown",
   "metadata": {},
   "source": [
    "Please copy and paste the test you just wrote into the cell below and process it. The test should pass."
   ]
  },
  {
   "cell_type": "code",
   "execution_count": 9,
   "metadata": {},
   "outputs": [
    {
     "data": {
      "application/json": "{\"success\":true,\"summary\":{\"tests\":1,\"failures\":0,\"errors\":0},\"tests\":[{\"name\":\"by_tag_year_fraction is correct\",\"message\":\"success\\nsuccess\\nsuccess\",\"success\":true,\"outcome\":\"success\"}]}"
     },
     "metadata": {},
     "output_type": "display_data"
    },
    {
     "data": {
      "application/json": "{\"success\":true,\"summary\":{\"tests\":1,\"failures\":0,\"errors\":0},\"tests\":[{\"name\":\"by_tag_year_fraction is correct\",\"message\":\"success\\nsuccess\\nsuccess\",\"success\":true,\"outcome\":\"success\"}]}"
     },
     "metadata": {},
     "output_type": "display_data"
    },
    {
     "data": {
      "text/plain": [
       "1/1 tests passed"
      ]
     },
     "metadata": {},
     "output_type": "display_data"
    }
   ],
   "source": [
    "run_tests({\n",
    "    # .... YOUR TEST(S) HERE ....\n",
    "    test_that(\"by_tag_year_fraction is correct\", {\n",
    "        expect_is(by_tag_year_fraction, \"tbl_df\", \n",
    "              info = \"Did you use `mutate()` with the correct arguments?\")\n",
    "        expect_true(\"fraction\"%in%colnames(by_tag_year_fraction),\n",
    "                info = \"by_tag_year_fraction does not have a column named 'fraction' did you use mutate to name your column 'fraction'?\")\n",
    "        expect_identical(by_tag_year_fraction$fraction[1], 54/58390, \n",
    "                         info = \"The column fraction does not have the correct value, did you check your equation?\")\n",
    "    })\n",
    "})"
   ]
  },
  {
   "cell_type": "code",
   "execution_count": null,
   "metadata": {},
   "outputs": [],
   "source": []
  }
 ],
 "metadata": {
  "kernelspec": {
   "display_name": "R",
   "language": "R",
   "name": "ir"
  },
  "language_info": {
   "codemirror_mode": "r",
   "file_extension": ".r",
   "mimetype": "text/x-r-source",
   "name": "R",
   "pygments_lexer": "r",
   "version": "3.5.1"
  }
 },
 "nbformat": 4,
 "nbformat_minor": 2
}
