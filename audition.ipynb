{
 "cells": [
  {
   "cell_type": "markdown",
   "metadata": {
    "collapsed": true
   },
   "source": [
    "Welcome to your DataCamp project audition! This notebook must be filled out and vetted before a contract can be signed and you can start creating your project.\n",
    "\n",
    "The first step is forking the repository in which this notebook lives. After that, there are two parts to be completed in this notebook:\n",
    "\n",
    "- **Project information**:  The title of the project, a project description, etc.\n",
    "\n",
    "- **Project introduction**: The three first text and code cells that will form the introduction of your project.\n",
    "\n",
    "When complete, please email the link to your forked repo to projects@datacamp.com with the email subject line _DataCamp project audition_. If you have any questions, please reach out to projects@datacamp.com."
   ]
  },
  {
   "cell_type": "markdown",
   "metadata": {},
   "source": [
    "# Project information"
   ]
  },
  {
   "cell_type": "markdown",
   "metadata": {},
   "source": [
    "**Project title**: Is Physical Activity Associated with Lower BMI? Health Survey Says...\n",
    "\n",
    "**Name:** Jessica Minnier\n",
    "\n",
    "**Email address associated with your DataCamp account:** jessica.minnier@gmail.com\n",
    "\n",
    "**Project description**:\n",
    "\n",
    "Surveys are often used to study health behavior and determine risks of disease. Meanwhile, seemingly every day, news outlets publish a different \"research says\" article about how to lose weight (fast! with no effort at all!). In this project, you will use survey data of ~20k people sampled from the United States to explore health behaviors associated with lower Body Mass Index (BMI), a standardized measure of healthy weight and obesity. Surveys with complex designs use special statistical methods to incorporate sampling weights and design factors into the estimation and inference. Incorporating survey design methods, you will use multiple regression to handle confounders when testing whether physical activity is associated with lower BMI.\n",
    "\n",
    "You will apply the skills you learned in [Analyzing Survey Data in R](https://www.datacamp.com/courses/analyzing-survey-data-in-r), [Multiple and Logistic Regression](https://www.datacamp.com/courses/multiple-and-logistic-regression), as well as tidy data exploration and ggplot2 visualization techniques found in [Introduction to the Tidyverse](https://www.datacamp.com/courses/introduction-to-the-tidyverse) and [Data Manipulation in R with dplyr](https://www.datacamp.com/courses/dplyr-data-manipulation-r-tutorial).\n",
    "\n",
    "This project will use [National Health and Nutrition Examination Survey (NHANES)](https://www.cdc.gov/nchs/nhanes/index.htm) data from ~20,000 participants surveyed in years 2009-2012 found in the [NHANES R package](https://www.rdocumentation.org/packages/NHANES/versions/2.1.0/topics/NHANES)."
   ]
  },
  {
   "cell_type": "markdown",
   "metadata": {},
   "source": [
    "# Project introduction\n",
    "\n",
    "***Note: nothing needs to be filled out in this cell. It is simply setting up the template cells below.***\n",
    "\n",
    "The final output of a DataCamp project looks like a blog post: pairs of text and code cells that tell a story about data. The text is written from the perspective of the data analyst and *not* from the perspective of an instructor on DataCamp. So, for this blog post intro, all you need to do is pretend like you're writing a blog post -- forget the part about instructors and students.\n",
    "\n",
    "Below you'll see the structure of a DataCamp project: a series of \"tasks\" where each task consists of a title, a **single** text cell, and a **single** code cell. There are 8-12 tasks in a project and each task can have up to 10 lines of code. What you need to do:\n",
    "1. Read through the template structure.\n",
    "2. As best you can, divide your project as it is currently visualized in your mind into tasks.\n",
    "3. Fill out the template structure for the first three tasks of your project.\n",
    "\n",
    "As you are completing each task, you may wish to consult the project notebook format in our [documentation](https://instructor-support.datacamp.com/projects/datacamp-projects-jupyter-notebook). Only the `@context` and `@solution` cells are relevant to this audition."
   ]
  },
  {
   "cell_type": "markdown",
   "metadata": {},
   "source": [
    "## 1. Survey of BMI and physical activity"
   ]
  },
  {
   "cell_type": "markdown",
   "metadata": {},
   "source": [
    "The [National Health and Nutrition Examination Survey (NHANES)](https://www.cdc.gov/nchs/nhanes/index.htm) data is a complex survey designed to assess the health and nutritional status of adults and children in the United States. There are data from many questionnaires, including health and disease outcomes such as diabetes, physical activity and diet measures, lab tests, physchological health, socioeconomic factors, and much more. We are going to focus on a common health indicator, BMI, and how it is related to physical activity. We'll visualize the data and use survey weighted regression to test for associations.\n",
    "\n",
    "The [`NHANES` R package](https://www.rdocumentation.org/packages/NHANES/versions/2.1.0/topics/NHANES) has a subset of the NHANES data from years 2009-2012. Load the R dataset `NHANESraw` from the NHANES package.\n",
    "\n",
    "Surveys represent larger populations (i.e. all users of a website, everyone with heart disease in Brazil), and depending on the sampling design, each person has a different weight that quantifies how many people in the population their data is meant to represent. In the `NHANESraw` data, we have a sampling weight variable `WTMEC2YR`, a strata variable `SDMVSTRA`, and `SDMVPSU`, a primary sampling unit (PSU) variable that accounts for design effects of clustering. These PSUs are nested within strata.\n",
    "\n",
    "![activity](img/Activity-Flexibility-Wife-Women-Bending-Stretching-3098228.jpg)"
   ]
  },
  {
   "cell_type": "code",
   "execution_count": 12,
   "metadata": {},
   "outputs": [
    {
     "name": "stdout",
     "output_type": "stream",
     "text": [
      "Observations: 20,293\n",
      "Variables: 78\n",
      "$ ID               <int> 51624, 51625, 51626, 51627, 51628, 51629, 51630, 5...\n",
      "$ SurveyYr         <fct> 2009_10, 2009_10, 2009_10, 2009_10, 2009_10, 2009_...\n",
      "$ Gender           <fct> male, male, male, male, female, male, female, fema...\n",
      "$ Age              <int> 34, 4, 16, 10, 60, 26, 49, 1, 10, 80, 10, 80, 4, 3...\n",
      "$ AgeMonths        <int> 409, 49, 202, 131, 722, 313, 596, 12, 124, NA, 121...\n",
      "$ Race1            <fct> White, Other, Black, Black, Black, Mexican, White,...\n",
      "$ Race3            <fct> NA, NA, NA, NA, NA, NA, NA, NA, NA, NA, NA, NA, NA...\n",
      "$ Education        <fct> High School, NA, NA, NA, High School, 9 - 11th Gra...\n",
      "$ MaritalStatus    <fct> Married, NA, NA, NA, Widowed, Married, LivePartner...\n",
      "$ HHIncome         <fct> 25000-34999, 20000-24999, 45000-54999, 20000-24999...\n",
      "$ HHIncomeMid      <int> 30000, 22500, 50000, 22500, 12500, 30000, 40000, 4...\n",
      "$ Poverty          <dbl> 1.36, 1.07, 2.27, 0.81, 0.69, 1.01, 1.91, 1.36, 2....\n",
      "$ HomeRooms        <int> 6, 9, 5, 6, 6, 4, 5, 5, 7, 4, 5, 5, 7, NA, 6, 6, 5...\n",
      "$ HomeOwn          <fct> Own, Own, Own, Rent, Rent, Rent, Rent, Rent, Own, ...\n",
      "$ Work             <fct> NotWorking, NA, NotWorking, NA, NotWorking, Workin...\n",
      "$ Weight           <dbl> 87.4, 17.0, 72.3, 39.8, 116.8, 97.6, 86.7, 9.4, 26...\n",
      "$ Length           <dbl> NA, NA, NA, NA, NA, NA, NA, 75.7, NA, NA, NA, NA, ...\n",
      "$ HeadCirc         <dbl> NA, NA, NA, NA, NA, NA, NA, NA, NA, NA, NA, NA, NA...\n",
      "$ Height           <dbl> 164.7, 105.4, 181.3, 147.8, 166.0, 173.0, 168.4, N...\n",
      "$ BMI              <dbl> 32.22, 15.30, 22.00, 18.22, 42.39, 32.61, 30.57, N...\n",
      "$ BMICatUnder20yrs <fct> NA, NA, NA, NA, NA, NA, NA, NA, NA, NA, NA, NA, NA...\n",
      "$ BMI_WHO          <fct> 30.0_plus, 12.0_18.5, 18.5_to_24.9, 12.0_18.5, 30....\n",
      "$ Pulse            <int> 70, NA, 68, 68, 72, 72, 86, NA, 70, 88, 84, 54, NA...\n",
      "$ BPSysAve         <int> 113, NA, 109, 93, 150, 104, 112, NA, 108, 139, 94,...\n",
      "$ BPDiaAve         <int> 85, NA, 59, 41, 68, 49, 75, NA, 53, 43, 45, 60, NA...\n",
      "$ BPSys1           <int> 114, NA, 112, 92, 154, 102, 118, NA, 106, 142, 94,...\n",
      "$ BPDia1           <int> 88, NA, 62, 36, 70, 50, 82, NA, 60, 62, 38, 62, NA...\n",
      "$ BPSys2           <int> 114, NA, 114, 94, 150, 104, 108, NA, 106, 140, 92,...\n",
      "$ BPDia2           <int> 88, NA, 60, 44, 68, 48, 74, NA, 50, 46, 40, 62, NA...\n",
      "$ BPSys3           <int> 112, NA, 104, 92, 150, 104, 116, NA, 110, 138, 96,...\n",
      "$ BPDia3           <int> 82, NA, 58, 38, 68, 50, 76, NA, 56, 40, 50, 58, NA...\n",
      "$ Testosterone     <dbl> NA, NA, NA, NA, NA, NA, NA, NA, NA, NA, NA, NA, NA...\n",
      "$ DirectChol       <dbl> 1.29, NA, 1.55, 1.89, 1.16, 1.16, 1.16, NA, 1.58, ...\n",
      "$ TotChol          <dbl> 3.49, NA, 4.97, 4.16, 5.22, 4.14, 6.70, NA, 4.14, ...\n",
      "$ UrineVol1        <int> 352, NA, 281, 139, 30, 202, 77, NA, 39, 128, 109, ...\n",
      "$ UrineFlow1       <dbl> NA, NA, 0.415, 1.078, 0.476, 0.563, 0.094, NA, 0.3...\n",
      "$ UrineVol2        <int> NA, NA, NA, NA, 246, NA, NA, NA, NA, NA, NA, NA, N...\n",
      "$ UrineFlow2       <dbl> NA, NA, NA, NA, 2.51, NA, NA, NA, NA, NA, NA, NA, ...\n",
      "$ Diabetes         <fct> No, No, No, No, Yes, No, No, No, No, No, No, Yes, ...\n",
      "$ DiabetesAge      <int> NA, NA, NA, NA, 56, NA, NA, NA, NA, NA, NA, 70, NA...\n",
      "$ HealthGen        <fct> Good, NA, Vgood, NA, Fair, Good, Good, NA, NA, Exc...\n",
      "$ DaysPhysHlthBad  <int> 0, NA, 2, NA, 20, 2, 0, NA, NA, 0, NA, 0, NA, NA, ...\n",
      "$ DaysMentHlthBad  <int> 15, NA, 0, NA, 25, 14, 10, NA, NA, 0, NA, 0, NA, N...\n",
      "$ LittleInterest   <fct> Most, NA, NA, NA, Most, None, Several, NA, NA, Non...\n",
      "$ Depressed        <fct> Several, NA, NA, NA, Most, Most, Several, NA, NA, ...\n",
      "$ nPregnancies     <int> NA, NA, NA, NA, 1, NA, 2, NA, NA, NA, NA, NA, NA, ...\n",
      "$ nBabies          <int> NA, NA, NA, NA, 1, NA, 2, NA, NA, NA, NA, NA, NA, ...\n",
      "$ Age1stBaby       <int> NA, NA, NA, NA, NA, NA, 27, NA, NA, NA, NA, NA, NA...\n",
      "$ SleepHrsNight    <int> 4, NA, 8, NA, 4, 4, 8, NA, NA, 6, NA, 9, NA, 7, NA...\n",
      "$ SleepTrouble     <fct> Yes, NA, No, NA, No, No, Yes, NA, NA, No, NA, No, ...\n",
      "$ PhysActive       <fct> No, NA, Yes, NA, No, Yes, No, NA, NA, Yes, NA, No,...\n",
      "$ PhysActiveDays   <int> NA, NA, 5, NA, NA, 2, NA, NA, NA, 4, NA, NA, NA, N...\n",
      "$ TVHrsDay         <fct> NA, NA, NA, NA, NA, NA, NA, NA, NA, NA, NA, NA, NA...\n",
      "$ CompHrsDay       <fct> NA, NA, NA, NA, NA, NA, NA, NA, NA, NA, NA, NA, NA...\n",
      "$ TVHrsDayChild    <int> NA, 4, NA, 1, NA, NA, NA, NA, 1, NA, 3, NA, 2, NA,...\n",
      "$ CompHrsDayChild  <int> NA, 1, NA, 1, NA, NA, NA, NA, 0, NA, 0, NA, 1, NA,...\n",
      "$ Alcohol12PlusYr  <fct> Yes, NA, NA, NA, No, Yes, Yes, NA, NA, Yes, NA, No...\n",
      "$ AlcoholDay       <int> NA, NA, NA, NA, NA, 19, 2, NA, NA, 1, NA, NA, NA, ...\n",
      "$ AlcoholYear      <int> 0, NA, NA, NA, 0, 48, 20, NA, NA, 52, NA, 0, NA, N...\n",
      "$ SmokeNow         <fct> No, NA, NA, NA, Yes, No, Yes, NA, NA, No, NA, No, ...\n",
      "$ Smoke100         <fct> Yes, NA, NA, NA, Yes, Yes, Yes, NA, NA, Yes, NA, Y...\n",
      "$ SmokeAge         <int> 18, NA, NA, NA, 16, 15, 38, NA, NA, 16, NA, 21, NA...\n",
      "$ Marijuana        <fct> Yes, NA, NA, NA, NA, Yes, Yes, NA, NA, NA, NA, NA,...\n",
      "$ AgeFirstMarij    <int> 17, NA, NA, NA, NA, 10, 18, NA, NA, NA, NA, NA, NA...\n",
      "$ RegularMarij     <fct> No, NA, NA, NA, NA, Yes, No, NA, NA, NA, NA, NA, N...\n",
      "$ AgeRegMarij      <int> NA, NA, NA, NA, NA, 12, NA, NA, NA, NA, NA, NA, NA...\n",
      "$ HardDrugs        <fct> Yes, NA, NA, NA, No, Yes, Yes, NA, NA, NA, NA, NA,...\n",
      "$ SexEver          <fct> Yes, NA, NA, NA, Yes, Yes, Yes, NA, NA, NA, NA, NA...\n",
      "$ SexAge           <int> 16, NA, NA, NA, 15, 9, 12, NA, NA, NA, NA, NA, NA,...\n",
      "$ SexNumPartnLife  <int> 8, NA, NA, NA, 4, 10, 10, NA, NA, NA, NA, NA, NA, ...\n",
      "$ SexNumPartYear   <int> 1, NA, NA, NA, NA, 1, 1, NA, NA, NA, NA, NA, NA, N...\n",
      "$ SameSex          <fct> No, NA, NA, NA, No, No, Yes, NA, NA, NA, NA, NA, N...\n",
      "$ SexOrientation   <fct> Heterosexual, NA, NA, NA, NA, Heterosexual, Hetero...\n",
      "$ WTINT2YR         <dbl> 80100.544, 53901.104, 13953.078, 11664.899, 20090....\n",
      "$ WTMEC2YR         <dbl> 81528.772, 56995.035, 14509.279, 12041.635, 21000....\n",
      "$ SDMVPSU          <int> 1, 2, 1, 2, 2, 1, 2, 2, 2, 1, 1, 1, 2, 2, 1, 1, 1,...\n",
      "$ SDMVSTRA         <int> 83, 79, 84, 86, 75, 88, 85, 86, 88, 77, 86, 79, 84...\n",
      "$ PregnantNow      <fct> NA, NA, NA, NA, NA, NA, NA, NA, NA, NA, NA, NA, NA...\n"
     ]
    }
   ],
   "source": [
    "# Load libraries\n",
    "library(NHANES)\n",
    "library(survey)\n",
    "library(dplyr)\n",
    "library(ggplot2)\n",
    "\n",
    "# Code and comments for the first task\n",
    "# It should consist of up to 10 lines of code (not including comments)\n",
    "# and take at most 10 seconds to execute on an average laptop.\n",
    "\n",
    "# load the NHANESraw data\n",
    "data(\"NHANESraw\")\n",
    "\n",
    "# glimpse the data\n",
    "glimpse(NHANESraw)"
   ]
  },
  {
   "cell_type": "markdown",
   "metadata": {},
   "source": [
    "## 2. Visualize survey weight and strata variables"
   ]
  },
  {
   "cell_type": "markdown",
   "metadata": {},
   "source": [
    "Since `NHANESraw` data spans 4 years and the sampling weights are based on 2 year data, we first need to create a weight variable that scales the sample across the full 4 years. We divide the 2 year weight by 2, so that in total, the weights sum to the total US population.\n",
    "\n",
    "The NHANES data has oversampled some geographic regions and specific minority groups. By examining the distribution of sampling weights for each race, we can see that Whites are undersampled and have higher weights while oversampled Black, Mexican, Hispanic people have lower weights since each sampled person in these minority groups represents fewer US people."
   ]
  },
  {
   "cell_type": "code",
   "execution_count": 14,
   "metadata": {},
   "outputs": [
    {
     "data": {
      "text/html": [
       "<table>\n",
       "<thead><tr><th scope=col>sum(WTMEC4YR)</th></tr></thead>\n",
       "<tbody>\n",
       "\t<tr><td>304267200</td></tr>\n",
       "</tbody>\n",
       "</table>\n"
      ],
      "text/latex": [
       "\\begin{tabular}{r|l}\n",
       " sum(WTMEC4YR)\\\\\n",
       "\\hline\n",
       "\t 304267200\\\\\n",
       "\\end{tabular}\n"
      ],
      "text/markdown": [
       "\n",
       "sum(WTMEC4YR) | \n",
       "|---|\n",
       "| 304267200 | \n",
       "\n",
       "\n"
      ],
      "text/plain": [
       "  sum(WTMEC4YR)\n",
       "1 304267200    "
      ]
     },
     "metadata": {},
     "output_type": "display_data"
    },
    {
     "data": {},
     "metadata": {},
     "output_type": "display_data"
    },
    {
     "data": {
      "image/png": "[encoded data removed]",
      "text/plain": [
       "plot without title"
      ]
     },
     "metadata": {},
     "output_type": "display_data"
    }
   ],
   "source": [
    "# use mutate to create a 4 year weight variable WTMEC4YR\n",
    "NHANESraw <- NHANESraw %>% mutate(WTMEC4YR = WTMEC2YR/2)\n",
    "\n",
    "# calculate the sum of this weight variable\n",
    "NHANESraw %>% summarize(sum(WTMEC4YR))\n",
    "\n",
    "# plot the sample weights using boxplots, with Race1 on the x axis\n",
    "ggplot(NHANESraw,aes(x=Race1,y=WTMEC4YR))+geom_boxplot()\n"
   ]
  },
  {
   "cell_type": "markdown",
   "metadata": {},
   "source": [
    "## 3. Specify survey design and subset"
   ]
  },
  {
   "cell_type": "markdown",
   "metadata": {},
   "source": [
    "We will now use the `survey` package to specify the complex survey design that we will use in later analyses. We know the strata, cluster (PSU), and weight variables for our data. We also know that the clusters (PSUs) are nested within strata. For more information on the NHANES sampling design, see the [CDC website](https://www.cdc.gov/Nchs/tutorials/environmental/orientation/sample_design/index.htm).\n",
    "\n",
    "We want to study the relationship between physical activity and BMI in adults. Note, when we wish to examine a subset of the data (i.e. the subpopulation of adult Hispanics with diabetes, or pregnant women) we must explicitly specify this in the design. We cannot simply remove that subset of the data through filtering the raw data because the survey weights will no longer be correct and will not add up to the full US population."
   ]
  },
  {
   "cell_type": "code",
   "execution_count": 18,
   "metadata": {},
   "outputs": [
    {
     "data": {
      "text/plain": [
       "Stratified 1 - level Cluster Sampling design (with replacement)\n",
       "With (62) clusters.\n",
       "svydesign(data = NHANESraw, strata = ~SDMVSTRA, id = ~SDMVPSU, \n",
       "    nest = TRUE, weights = ~WTMEC4YR)\n",
       "Probabilities:\n",
       "     Min.   1st Qu.    Median      Mean   3rd Qu.      Max. \n",
       "8.986e-06 5.664e-05 1.054e-04       Inf 1.721e-04       Inf \n",
       "Stratum Sizes: \n",
       "            75  76  77  78  79  80  81  82  83  84  85  86  87  88  89  90  91\n",
       "obs        803 785 823 829 696 751 696 724 713 683 592 946 598 647 251 862 998\n",
       "design.PSU   2   2   2   2   2   2   2   2   2   2   2   3   2   2   2   3   3\n",
       "actual.PSU   2   2   2   2   2   2   2   2   2   2   2   3   2   2   2   3   3\n",
       "            92  93  94  95  96  97  98  99 100 101 102 103\n",
       "obs        875 602 688 722 676 608 708 682 700 715 624 296\n",
       "design.PSU   3   2   2   2   2   2   2   2   2   2   2   2\n",
       "actual.PSU   3   2   2   2   2   2   2   2   2   2   2   2\n",
       "Data variables:\n",
       " [1] \"ID\"               \"SurveyYr\"         \"Gender\"           \"Age\"             \n",
       " [5] \"AgeMonths\"        \"Race1\"            \"Race3\"            \"Education\"       \n",
       " [9] \"MaritalStatus\"    \"HHIncome\"         \"HHIncomeMid\"      \"Poverty\"         \n",
       "[13] \"HomeRooms\"        \"HomeOwn\"          \"Work\"             \"Weight\"          \n",
       "[17] \"Length\"           \"HeadCirc\"         \"Height\"           \"BMI\"             \n",
       "[21] \"BMICatUnder20yrs\" \"BMI_WHO\"          \"Pulse\"            \"BPSysAve\"        \n",
       "[25] \"BPDiaAve\"         \"BPSys1\"           \"BPDia1\"           \"BPSys2\"          \n",
       "[29] \"BPDia2\"           \"BPSys3\"           \"BPDia3\"           \"Testosterone\"    \n",
       "[33] \"DirectChol\"       \"TotChol\"          \"UrineVol1\"        \"UrineFlow1\"      \n",
       "[37] \"UrineVol2\"        \"UrineFlow2\"       \"Diabetes\"         \"DiabetesAge\"     \n",
       "[41] \"HealthGen\"        \"DaysPhysHlthBad\"  \"DaysMentHlthBad\"  \"LittleInterest\"  \n",
       "[45] \"Depressed\"        \"nPregnancies\"     \"nBabies\"          \"Age1stBaby\"      \n",
       "[49] \"SleepHrsNight\"    \"SleepTrouble\"     \"PhysActive\"       \"PhysActiveDays\"  \n",
       "[53] \"TVHrsDay\"         \"CompHrsDay\"       \"TVHrsDayChild\"    \"CompHrsDayChild\" \n",
       "[57] \"Alcohol12PlusYr\"  \"AlcoholDay\"       \"AlcoholYear\"      \"SmokeNow\"        \n",
       "[61] \"Smoke100\"         \"SmokeAge\"         \"Marijuana\"        \"AgeFirstMarij\"   \n",
       "[65] \"RegularMarij\"     \"AgeRegMarij\"      \"HardDrugs\"        \"SexEver\"         \n",
       "[69] \"SexAge\"           \"SexNumPartnLife\"  \"SexNumPartYear\"   \"SameSex\"         \n",
       "[73] \"SexOrientation\"   \"WTINT2YR\"         \"WTMEC2YR\"         \"SDMVPSU\"         \n",
       "[77] \"SDMVSTRA\"         \"PregnantNow\"      \"WTMEC4YR\"        "
      ]
     },
     "metadata": {},
     "output_type": "display_data"
    },
    {
     "data": {
      "text/plain": [
       "Stratified 1 - level Cluster Sampling design (with replacement)\n",
       "With (62) clusters.\n",
       "subset(nhanes_design, Age >= 18)\n",
       "Probabilities:\n",
       "     Min.   1st Qu.    Median      Mean   3rd Qu.      Max. \n",
       "8.986e-06 4.464e-05 8.321e-05       Inf 1.272e-04       Inf \n",
       "Stratum Sizes: \n",
       "            75  76  77  78  79  80  81  82  83  84  85  86  87  88  89  90  91\n",
       "obs        492 510 544 529 426 488 467 422 432 422 370 543 342 374 166 543 586\n",
       "design.PSU   2   2   2   2   2   2   2   2   2   2   2   3   2   2   2   3   3\n",
       "actual.PSU   2   2   2   2   2   2   2   2   2   2   2   3   2   2   2   3   3\n",
       "            92  93  94  95  96  97  98  99 100 101 102 103\n",
       "obs        507 395 390 473 377 333 427 427 399 510 322 175\n",
       "design.PSU   3   2   2   2   2   2   2   2   2   2   2   2\n",
       "actual.PSU   3   2   2   2   2   2   2   2   2   2   2   2\n",
       "Data variables:\n",
       " [1] \"ID\"               \"SurveyYr\"         \"Gender\"           \"Age\"             \n",
       " [5] \"AgeMonths\"        \"Race1\"            \"Race3\"            \"Education\"       \n",
       " [9] \"MaritalStatus\"    \"HHIncome\"         \"HHIncomeMid\"      \"Poverty\"         \n",
       "[13] \"HomeRooms\"        \"HomeOwn\"          \"Work\"             \"Weight\"          \n",
       "[17] \"Length\"           \"HeadCirc\"         \"Height\"           \"BMI\"             \n",
       "[21] \"BMICatUnder20yrs\" \"BMI_WHO\"          \"Pulse\"            \"BPSysAve\"        \n",
       "[25] \"BPDiaAve\"         \"BPSys1\"           \"BPDia1\"           \"BPSys2\"          \n",
       "[29] \"BPDia2\"           \"BPSys3\"           \"BPDia3\"           \"Testosterone\"    \n",
       "[33] \"DirectChol\"       \"TotChol\"          \"UrineVol1\"        \"UrineFlow1\"      \n",
       "[37] \"UrineVol2\"        \"UrineFlow2\"       \"Diabetes\"         \"DiabetesAge\"     \n",
       "[41] \"HealthGen\"        \"DaysPhysHlthBad\"  \"DaysMentHlthBad\"  \"LittleInterest\"  \n",
       "[45] \"Depressed\"        \"nPregnancies\"     \"nBabies\"          \"Age1stBaby\"      \n",
       "[49] \"SleepHrsNight\"    \"SleepTrouble\"     \"PhysActive\"       \"PhysActiveDays\"  \n",
       "[53] \"TVHrsDay\"         \"CompHrsDay\"       \"TVHrsDayChild\"    \"CompHrsDayChild\" \n",
       "[57] \"Alcohol12PlusYr\"  \"AlcoholDay\"       \"AlcoholYear\"      \"SmokeNow\"        \n",
       "[61] \"Smoke100\"         \"SmokeAge\"         \"Marijuana\"        \"AgeFirstMarij\"   \n",
       "[65] \"RegularMarij\"     \"AgeRegMarij\"      \"HardDrugs\"        \"SexEver\"         \n",
       "[69] \"SexAge\"           \"SexNumPartnLife\"  \"SexNumPartYear\"   \"SameSex\"         \n",
       "[73] \"SexOrientation\"   \"WTINT2YR\"         \"WTMEC2YR\"         \"SDMVPSU\"         \n",
       "[77] \"SDMVSTRA\"         \"PregnantNow\"      \"WTMEC4YR\"        "
      ]
     },
     "metadata": {},
     "output_type": "display_data"
    },
    {
     "data": {
      "text/html": [
       "20293"
      ],
      "text/latex": [
       "20293"
      ],
      "text/markdown": [
       "20293"
      ],
      "text/plain": [
       "[1] 20293"
      ]
     },
     "metadata": {},
     "output_type": "display_data"
    }
   ],
   "source": [
    "# specify the survey design using svydesign(), note that id is asking for our cluster variable\n",
    "nhanes_design <- svydesign(data = NHANESraw, \n",
    "                           strata = ~SDMVSTRA, \n",
    "                           id = ~SDMVPSU, \n",
    "                           nest = TRUE, \n",
    "                           weights = ~WTMEC4YR)\n",
    "\n",
    "# print a summary of this design\n",
    "summary(nhanes_design)\n",
    "\n",
    "# use the subset() function to select adults of Age >= 18\n",
    "nhanes_adult <- subset(nhanes_design, Age>=18)\n",
    "\n",
    "# print a summary of this subset; notice how the number of observations per stratum decreases\n",
    "summary(nhanes_adult)"
   ]
  },
  {
   "cell_type": "markdown",
   "metadata": {},
   "source": [
    "*Stop here! Only the three first tasks. :)*"
   ]
  }
 ],
 "metadata": {
  "kernelspec": {
   "display_name": "R",
   "language": "R",
   "name": "ir"
  },
  "language_info": {
   "codemirror_mode": "r",
   "file_extension": ".r",
   "mimetype": "text/x-r-source",
   "name": "R",
   "pygments_lexer": "r",
   "version": "3.5.1"
  }
 },
 "nbformat": 4,
 "nbformat_minor": 2
}
